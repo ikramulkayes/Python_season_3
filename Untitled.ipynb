{
 "cells": [
  {
   "cell_type": "code",
   "execution_count": 3,
   "id": "5e2bc0b4",
   "metadata": {},
   "outputs": [
    {
     "name": "stdout",
     "output_type": "stream",
     "text": [
      "144\n",
      "[85, 62, 61, 92, 49, 48, 68, 52, 71, 84, 69, 69, 49, 55, 75, 95, 67, 41, 58, 77, 61, 52, 81, 95, 81, 91, 68, 41, 89, 52, 61, 109, 65, 72, 63, 66, 65, 102, 85, 81, 78, 76, 64, 78, 74, 68, 98, 76, 93, 81]\n",
      "Minimum:\n",
      "41\n",
      "Maximum:\n",
      "109\n",
      "---------\n",
      "LEN\n",
      "50\n",
      "-----------\n",
      "109\n",
      "102\n",
      "Count:-------------\n",
      "2\n",
      "---------------Next step--------------\n",
      "[21, 19, 25, 21, 20, 20, 21, 20, 21, 20, 21, 22, 23, 23, 22, 21, 21, 20, 20, 23, 20, 20, 21, 20, 18, 20, 21, 20, 20, 20, 21, 22, 22, 19, 19, 20, 19, 20, 22, 19, 25, 19, 24, 22, 21, 20, 21, 22, 22, 19]\n"
     ]
    }
   ],
   "source": [
    "import csv\n",
    "\n",
    "filename = 'gg.csv'\n",
    "filename2 = \"gg2.csv\"\n",
    "count = 0\n",
    "lst = []\n",
    "with open(filename, 'r') as csvfile:\n",
    "    datareader = csv.reader(csvfile)\n",
    "    for row in datareader:\n",
    "        count += 1\n",
    "        #print(row)\n",
    "        if count > 1 and len(row)>0:\n",
    "            k = row[0]\n",
    "            #print(k)\n",
    "            lst.append(int(k))\n",
    "            \n",
    "print(count)\n",
    "print(lst)\n",
    "len(lst)\n",
    "print(\"Minimum:\")\n",
    "print(min(lst))\n",
    "print(\"Maximum:\")\n",
    "print(max(lst))\n",
    "print(\"---------\")\n",
    "count = 0\n",
    "print(\"LEN\")\n",
    "print(len(lst))\n",
    "print(\"-----------\")\n",
    "for elm in lst:\n",
    "    if elm >= 100 and elm <=110:\n",
    "        count += 1\n",
    "        print(elm)\n",
    "print(\"Count:-------------\")\n",
    "print(count)\n",
    "\n",
    "\n",
    "print(\"---------------Next step--------------\")\n",
    "count1 = 0\n",
    "lst1 = []\n",
    "with open(filename2, 'r') as csvfile:\n",
    "    datareader = csv.reader(csvfile)\n",
    "    for row in datareader:\n",
    "        count1 += 1\n",
    "        #print(row)\n",
    "        if count1 > 1 and len(row)>0:\n",
    "            k = row[0]\n",
    "            #print(k)\n",
    "            lst1.append(int(k))\n",
    "print(lst1)"
   ]
  },
  {
   "cell_type": "code",
   "execution_count": 5,
   "id": "fabdbf9f",
   "metadata": {},
   "outputs": [
    {
     "name": "stdout",
     "output_type": "stream",
     "text": [
      "1 1785\n",
      "2 1178\n",
      "3 1525\n",
      "4 1932\n",
      "5 980\n",
      "6 960\n",
      "7 1428\n",
      "8 1040\n",
      "9 1491\n",
      "10 1680\n",
      "11 1449\n",
      "12 1518\n",
      "13 1127\n",
      "14 1265\n",
      "15 1650\n",
      "16 1995\n",
      "17 1407\n",
      "18 820\n",
      "19 1160\n",
      "20 1771\n",
      "21 1220\n",
      "22 1040\n",
      "23 1701\n",
      "24 1900\n",
      "25 1458\n",
      "26 1820\n",
      "27 1428\n",
      "28 820\n",
      "29 1780\n",
      "30 1040\n",
      "31 1281\n",
      "32 2398\n",
      "33 1430\n",
      "34 1368\n",
      "35 1197\n",
      "36 1320\n",
      "37 1235\n",
      "38 2040\n",
      "39 1870\n",
      "40 1539\n",
      "41 1950\n",
      "42 1444\n",
      "43 1536\n",
      "44 1716\n",
      "45 1554\n",
      "46 1360\n",
      "47 2058\n",
      "48 1672\n",
      "49 2046\n",
      "50 1539\n"
     ]
    }
   ],
   "source": [
    "sumfinal = 0\n",
    "count = 1\n",
    "for elm in range(len(lst1)):\n",
    "    sum1 = lst[elm]*lst1[elm]\n",
    "    print(count,sum1)\n",
    "    count += 1\n",
    "    sumfinal += sum1\n",
    "\n",
    "    "
   ]
  },
  {
   "cell_type": "code",
   "execution_count": 6,
   "id": "ac773055",
   "metadata": {},
   "outputs": [
    {
     "name": "stdout",
     "output_type": "stream",
     "text": [
      "74921\n"
     ]
    }
   ],
   "source": [
    "print(sumfinal)"
   ]
  },
  {
   "cell_type": "code",
   "execution_count": 10,
   "id": "be2cd677",
   "metadata": {},
   "outputs": [
    {
     "name": "stdout",
     "output_type": "stream",
     "text": [
      "1 441\n",
      "2 361\n",
      "3 625\n",
      "4 441\n",
      "5 400\n",
      "6 400\n",
      "7 441\n",
      "8 400\n",
      "9 441\n",
      "10 400\n",
      "11 441\n",
      "12 484\n",
      "13 529\n",
      "14 529\n",
      "15 484\n",
      "16 441\n",
      "17 441\n",
      "18 400\n",
      "19 400\n",
      "20 529\n",
      "21 400\n",
      "22 400\n",
      "23 441\n",
      "24 400\n",
      "25 324\n",
      "26 400\n",
      "27 441\n",
      "28 400\n",
      "29 400\n",
      "30 400\n",
      "31 441\n",
      "32 484\n",
      "33 484\n",
      "34 361\n",
      "35 361\n",
      "36 400\n",
      "37 361\n",
      "38 400\n",
      "39 484\n",
      "40 361\n",
      "41 625\n",
      "42 361\n",
      "43 576\n",
      "44 484\n",
      "45 441\n",
      "46 400\n",
      "47 441\n",
      "48 484\n",
      "49 484\n",
      "50 361\n",
      "21828\n"
     ]
    }
   ],
   "source": [
    "count = 1\n",
    "sumfinal = 0\n",
    "for elm in range(len(lst1)):\n",
    "    sum1 = (lst1[elm])*(lst1[elm])\n",
    "    print(count,sum1)\n",
    "    count += 1\n",
    "    sumfinal += sum1\n",
    "print(sumfinal)"
   ]
  },
  {
   "cell_type": "code",
   "execution_count": 11,
   "id": "cc135a35",
   "metadata": {},
   "outputs": [
    {
     "data": {
      "image/png": "[encoded data removed]",
      "text/plain": [
       "<Figure size 432x288 with 1 Axes>"
      ]
     },
     "metadata": {
      "needs_background": "light"
     },
     "output_type": "display_data"
    }
   ],
   "source": [
    "import matplotlib.pyplot as plt\n",
    "plt.scatter(lst, lst1)\n",
    "plt.show()"
   ]
  },
  {
   "cell_type": "code",
   "execution_count": 16,
   "id": "88c560ce",
   "metadata": {},
   "outputs": [
    {
     "name": "stdout",
     "output_type": "stream",
     "text": [
      "1042\n",
      "[85, 62, 61, 92, 49, 48, 68, 52, 71, 84, 69, 69, 49, 55, 75, 95, 67, 41, 58, 77, 61, 52, 81, 95, 81, 91, 68, 41, 89, 52, 61, 109, 65, 72, 63, 66, 65, 102, 85, 81, 78, 76, 64, 78, 74, 68, 98, 76, 93, 81]\n"
     ]
    }
   ],
   "source": [
    "print(sum(lst1))\n",
    "print(lst)"
   ]
  },
  {
   "cell_type": "code",
   "execution_count": null,
   "id": "e3f3865a",
   "metadata": {},
   "outputs": [],
   "source": []
  }
 ],
 "metadata": {
  "kernelspec": {
   "display_name": "Python 3",
   "language": "python",
   "name": "python3"
  },
  "language_info": {
   "codemirror_mode": {
    "name": "ipython",
    "version": 3
   },
   "file_extension": ".py",
   "mimetype": "text/x-python",
   "name": "python",
   "nbconvert_exporter": "python",
   "pygments_lexer": "ipython3",
   "version": "3.8.8"
  }
 },
 "nbformat": 4,
 "nbformat_minor": 5
}
